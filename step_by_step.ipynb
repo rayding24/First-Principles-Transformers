{
 "cells": [
  {
   "cell_type": "code",
   "execution_count": 4,
   "metadata": {},
   "outputs": [
    {
     "data": {
      "text/plain": [
       "['SO', 'to', 'begin', 'with', 'I', 'have', 'a', 'sentence']"
      ]
     },
     "execution_count": 4,
     "metadata": {},
     "output_type": "execute_result"
    }
   ],
   "source": [
    "# SO to begin with I have a sentence\n",
    "sentence = 'SO to begin with I have a sentence'.split(' ')\n",
    "sentence"
   ]
  },
  {
   "cell_type": "code",
   "execution_count": 7,
   "metadata": {},
   "outputs": [
    {
     "data": {
      "text/plain": [
       "{'SO': 0,\n",
       " 'to': 1,\n",
       " 'begin': 2,\n",
       " 'with': 3,\n",
       " 'I': 4,\n",
       " 'have': 5,\n",
       " 'a': 6,\n",
       " 'sentence': 7}"
      ]
     },
     "execution_count": 7,
     "metadata": {},
     "output_type": "execute_result"
    }
   ],
   "source": [
    "# we need to convert sentence to numbers before converting to tensor\n",
    "word2idx = {}\n",
    "count = 0\n",
    "for word in sentence:\n",
    "    if word in word2idx:\n",
    "        continue\n",
    "    else:\n",
    "        word2idx[word] = count\n",
    "        count += 1\n",
    "    \n",
    "word2idx"
   ]
  },
  {
   "cell_type": "code",
   "execution_count": 9,
   "metadata": {},
   "outputs": [
    {
     "name": "stdout",
     "output_type": "stream",
     "text": [
      "tensor([[0, 1, 2, 3, 4, 5, 6, 7]])\n",
      "tensor([[[ 0.6287,  1.6665, -0.3331, -0.4593, -1.6786],\n",
      "         [ 0.2869, -0.0948, -0.3191, -0.9615,  2.1615],\n",
      "         [ 1.3007,  0.2417, -1.2106, -2.0156,  1.5267],\n",
      "         [ 1.5645, -0.7544,  0.0069, -1.7901, -1.2235],\n",
      "         [ 1.9531, -0.7038,  0.3065, -1.0574, -0.7996],\n",
      "         [ 1.6464,  0.4403,  0.4414, -0.1570, -0.3825],\n",
      "         [-0.3843, -0.6210, -0.1699,  0.5268, -1.1570],\n",
      "         [-1.3945, -0.3285, -0.6545, -0.3870, -0.5344]]],\n",
      "       grad_fn=<EmbeddingBackward>)\n"
     ]
    }
   ],
   "source": [
    "# then there was some kind of embedding\n",
    "import torch\n",
    "import torch.nn as nn\n",
    "\n",
    "x = torch.tensor([[word2idx[word] for word in sentence]]) # batch 1 for sentence\n",
    "print(x)\n",
    "embed = nn.Embedding(20, 5) #vocab 20 and vec size 5\n",
    "x = embed(x)\n",
    "print(x)\n",
    "# so each word -> number -> vector, sure, that works"
   ]
  },
  {
   "cell_type": "code",
   "execution_count": null,
   "metadata": {},
   "outputs": [],
   "source": [
    "# now there was this positional encoding thing, but let's skip it since it's added, ie assume 0\n",
    "# then we got multiheaded attention\n"
   ]
  }
 ],
 "metadata": {
  "kernelspec": {
   "display_name": "Python 3",
   "language": "python",
   "name": "python3"
  },
  "language_info": {
   "codemirror_mode": {
    "name": "ipython",
    "version": 3
   },
   "file_extension": ".py",
   "mimetype": "text/x-python",
   "name": "python",
   "nbconvert_exporter": "python",
   "pygments_lexer": "ipython3",
   "version": "3.7.5"
  }
 },
 "nbformat": 4,
 "nbformat_minor": 2
}
